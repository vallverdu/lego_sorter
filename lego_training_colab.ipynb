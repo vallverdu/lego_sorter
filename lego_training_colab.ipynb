{
 "cells": [
  {
   "cell_type": "markdown",
   "id": "3805eb9f",
   "metadata": {},
   "source": [
    "# Training a Simple CNN Model on LEGO Dataset"
   ]
  },
  {
   "cell_type": "markdown",
   "id": "a4e04f6d",
   "metadata": {},
   "source": [
    "## Setup & Imports"
   ]
  },
  {
   "cell_type": "code",
   "execution_count": null,
   "id": "25e0d235",
   "metadata": {},
   "outputs": [],
   "source": [
    "import torch\n",
    "import torch.nn as nn\n",
    "import torch.optim as optim\n",
    "from torch.utils.data import Dataset, DataLoader\n",
    "from torchvision import transforms\n",
    "from PIL import Image\n",
    "import imgaug.augmenters as iaa\n",
    "import pandas as pd\n",
    "import numpy as np"
   ]
  },
  {
   "cell_type": "markdown",
   "id": "f2736692",
   "metadata": {},
   "source": [
    "## Dataset Loading"
   ]
  },
  {
   "cell_type": "code",
   "execution_count": null,
   "id": "f4cc0790",
   "metadata": {},
   "outputs": [],
   "source": [
    "# Dataset Loading\n",
    "# -----------------------\n",
    "\n",
    "class LegoDataset(Dataset):\n",
    "    def __init__(self, csv_file, image_dir, transform=None):\n",
    "        self.dataframe = pd.read_csv(csv_file)\n",
    "        self.image_dir = image_dir\n",
    "        self.transform = transform\n",
    "\n",
    "    def __len__(self):\n",
    "        return len(self.dataframe)\n",
    "\n",
    "    def __getitem__(self, idx):\n",
    "        img_name = os.path.join(self.image_dir, self.dataframe.iloc[idx, 0])\n",
    "        image = Image.open(img_name)\n",
    "        label = self.dataframe.iloc[idx, 1]\n",
    "\n",
    "        if self.transform:\n",
    "            image = self.transform(image)"
   ]
  },
  {
   "cell_type": "markdown",
   "id": "5eb65f80",
   "metadata": {},
   "source": [
    "## Image Augmentation"
   ]
  },
  {
   "cell_type": "code",
   "execution_count": null,
   "id": "5102263f",
   "metadata": {},
   "outputs": [],
   "source": [
    "# -----------------------\n",
    "# Image Augmentation\n",
    "# -----------------------\n",
    "\n",
    "augmenters = [\n",
    "    iaa.Affine(scale={\"x\": (0.8, 1.2), \"y\": (0.8, 1.2)}, rotate=0, translate_percent={\"x\": (-0.1, 0.1), \"y\": (-0.1, 0.1)}),\n",
    "    iaa.Multiply((0.8, 1.2)),\n",
    "    iaa.LinearContrast((0.8, 1.2)),\n",
    "    iaa.AddToHueAndSaturation((-10, 10)),\n",
    "]\n",
    "augmentation_sequence = iaa.Sequential(augmenters, random_order=True)\n"
   ]
  },
  {
   "cell_type": "markdown",
   "id": "4bbcea7f",
   "metadata": {},
   "source": [
    "## Model Definition"
   ]
  },
  {
   "cell_type": "code",
   "execution_count": null,
   "id": "37213dfb",
   "metadata": {},
   "outputs": [],
   "source": [
    "])\n",
    "\n",
    "# -----------------------\n",
    "# Model Definition\n",
    "# -----------------------\n",
    "\n",
    "class SimpleCNN(nn.Module):\n",
    "    def __init__(self, num_classes):\n",
    "        super(SimpleCNN, self).__init__()\n",
    "        self.conv1 = nn.Conv2d(3, 16, 3, padding=1)\n",
    "        self.conv2 = nn.Conv2d(16, 32, 3, padding=1)\n",
    "        self.fc1 = nn.Linear(32*32*32, 512)\n",
    "        self.fc2 = nn.Linear(512, num_classes)\n",
    "\n",
    "    def forward(self, x):\n",
    "        x = nn.ReLU()(self.conv1(x))\n",
    "        x = nn.MaxPool2d(2)(x)"
   ]
  },
  {
   "cell_type": "markdown",
   "id": "c325ab82",
   "metadata": {},
   "source": [
    "## Training"
   ]
  },
  {
   "cell_type": "code",
   "execution_count": null,
   "id": "5196a498",
   "metadata": {},
   "outputs": [],
   "source": [
    "        x = nn.ReLU()(self.fc1(x))\n",
    "        x = self.fc2(x)\n",
    "        return x\n",
    "\n",
    "# -----------------------\n",
    "# Training\n",
    "# -----------------------\n",
    "\n",
    "def train(model, dataloader, optimizer, criterion, num_epochs=5):\n",
    "    model.train()\n",
    "    for epoch in range(num_epochs):\n",
    "        running_loss = 0.0\n",
    "        for images, labels in dataloader:\n",
    "            optimizer.zero_grad()\n",
    "            outputs = model(images)\n",
    "            loss = criterion(outputs, labels)\n",
    "            loss.backward()\n",
    "            optimizer.step()\n",
    "            running_loss += loss.item()"
   ]
  },
  {
   "cell_type": "markdown",
   "id": "762a702f",
   "metadata": {},
   "source": [
    "\n",
    "## Main Code\n",
    "Please adjust the paths (`path_to_csv` and `path_to_images`) to point to the correct locations in your Google Drive or local storage.\n"
   ]
  },
  {
   "cell_type": "code",
   "execution_count": null,
   "id": "bfac8234",
   "metadata": {},
   "outputs": [],
   "source": [
    "    print(\"Finished Training\")\n",
    "\n",
    "# -----------------------\n",
    "# Main Code\n",
    "# -----------------------\n",
    "\n",
    "if __name__ == \"__main__\":\n",
    "    # Constants\n",
    "    BATCH_SIZE = 32\n",
    "    NUM_EPOCHS = 10\n",
    "    NUM_CLASSES = 10  # Adjust based on your dataset\n",
    "    LEARNING_RATE = 0.001\n",
    "\n",
    "    # Load Dataset\n",
    "    train_dataset = LegoDataset(csv_file=\"path_to_csv\", image_dir=\"path_to_images\", transform=transform)\n",
    "    train_loader = DataLoader(train_dataset, batch_size=BATCH_SIZE, shuffle=True)\n",
    "\n",
    "    # Initialize Model, Loss, and Optimizer\n",
    "    model = SimpleCNN(num_classes=NUM_CLASSES)\n",
    "    criterion = nn.CrossEntropyLoss()\n",
    "    optimizer = optim.Adam(model.parameters(), lr=LEARNING_RATE)\n",
    "\n",
    "    # Train the model\n",
    "    train(model, train_loader, optimizer, criterion, num_epochs=NUM_EPOCHS)\n"
   ]
  }
 ],
 "metadata": {},
 "nbformat": 4,
 "nbformat_minor": 5
}
