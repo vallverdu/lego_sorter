{
    "cells": [
        {
            "cell_type": "markdown",
            "metadata": {},
            "source": "# Lego Synthetic Dataset Generator in Google Colab"
        },
        {
            "cell_type": "markdown",
            "metadata": {},
            "source": "## Step 1: Check GPU Availability"
        },
        {
            "cell_type": "code",
            "metadata": {},
            "source": "!nvidia-smi",
            "outputs": []
        },
        {
            "cell_type": "markdown",
            "metadata": {},
            "source": "## Step 2: Connect to Google Drive"
        },
        {
            "cell_type": "code",
            "metadata": {},
            "source": "from google.colab import drive\ndrive.mount('/content/drive')",
            "outputs": []
        },
        {
            "cell_type": "markdown",
            "metadata": {},
            "source": "## Step 3: Download and Extract the Latest Blender Version"
        },
        {
            "cell_type": "code",
            "metadata": {},
            "source": "!wget https://download.blender.org/release/Blender3.0/blender-3.0.0-linux-x64.tar.xz\n!tar xf blender-3.0.0-linux-x64.tar.xz",
            "outputs": []
        },
        {
            "cell_type": "markdown",
            "metadata": {},
            "source": "## Step 4: Update Libraries (if needed)"
        },
        {
            "cell_type": "code",
            "metadata": {},
            "source": "import os\n\nos.environ['LD_PRELOAD'] = ''\n!apt remove libtcmalloc-minimal4\n!apt install libtcmalloc-minimal4\nos.environ['LD_PRELOAD'] = '/usr/lib/x86_64-linux-gnu/libtcmalloc_minimal.so.4.3.0'",
            "outputs": []
        },
        {
            "cell_type": "markdown",
            "metadata": {},
            "source": "## Step 5: Set Paths"
        },
        {
            "cell_type": "code",
            "metadata": {},
            "source": "# Set the paths accordingly\nblend_file_path = '/content/drive/MyDrive/path_to_blend_file.blend'\noutput_folder = '/content/drive/MyDrive/path_to_output_folder'\ncsv_path = '/content/drive/MyDrive/path_to_csv.csv'",
            "outputs": []
        },
        {
            "cell_type": "markdown",
            "metadata": {},
            "source": "## Step 6: Render Using Blender with our Script"
        },
        {
            "cell_type": "code",
            "metadata": {},
            "source": "# You can upload our script or directly integrate it into this notebook\n# For simplicity, let's assume you've uploaded it and named it 'render_script.py'\n\n# Now, render using Blender\n!./blender-3.0.0-linux-x64/blender -P render_script.py -b $blend_file_path -noaudio -E 'CYCLES' --debug-all -o \"$output_folder/image_####\" -- --output-folder $output_folder --csv-filename $csv_path --engine 'CYCLES'",
            "outputs": []
        }
    ],
    "metadata": {
        "kernelspec": {
            "display_name": "Python 3",
            "language": "python",
            "name": "python3"
        },
        "language_info": {
            "codemirror_mode": {
                "name": "ipython",
                "version": 3
            },
            "file_extension": ".py",
            "mimetype": "text/x-python",
            "name": "python",
            "nbconvert_exporter": "python",
            "pygments_lexer": "ipython3",
            "version": "3.7.10"
        },
        "colab": {
            "name": "Lego_Synthetic_Dataset_Generator.ipynb",
            "provenance": [],
            "collapsed_sections": [],
            "include_colab_link": true
        }
    },
    "nbformat": 4,
    "nbformat_minor": 5
}